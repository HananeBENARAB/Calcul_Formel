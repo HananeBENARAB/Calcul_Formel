{
 "cells": [
  {
   "cell_type": "code",
   "execution_count": 1,
   "metadata": {},
   "outputs": [],
   "source": [
    "p=3\n",
    "k=GF(p)"
   ]
  },
  {
   "cell_type": "code",
   "execution_count": 2,
   "metadata": {},
   "outputs": [],
   "source": [
    "i = 8\n",
    "q = p^i\n",
    "\n",
    "\n",
    "P(X) = X^4+X^3+2*X\n",
    "k.<a>=GF(8,P)"
   ]
  },
  {
   "cell_type": "code",
   "execution_count": 3,
   "metadata": {},
   "outputs": [
    {
     "data": {
      "text/plain": [
       "x^3 + x + 1"
      ]
     },
     "execution_count": 3,
     "metadata": {},
     "output_type": "execute_result"
    }
   ],
   "source": [
    "k.<a>=GF(8)\n",
    "k.modulus()"
   ]
  },
  {
   "cell_type": "code",
   "execution_count": 4,
   "metadata": {},
   "outputs": [
    {
     "data": {
      "text/html": [
       "<html>\\[\\newcommand{\\Bold}[1]{\\mathbf{#1}}x^{3} + x + 1\\]</html>"
      ],
      "text/latex": [
       "$$\\newcommand{\\Bold}[1]{\\mathbf{#1}}x^{3} + x + 1$$"
      ],
      "text/plain": [
       "x^3 + x + 1"
      ]
     },
     "metadata": {},
     "output_type": "display_data"
    },
    {
     "data": {
      "text/html": [
       "<html>\\[\\newcommand{\\Bold}[1]{\\mathbf{#1}}z_{3}\\]</html>"
      ],
      "text/latex": [
       "$$\\newcommand{\\Bold}[1]{\\mathbf{#1}}z_{3}$$"
      ],
      "text/plain": [
       "z3"
      ]
     },
     "metadata": {},
     "output_type": "display_data"
    }
   ],
   "source": [
    "k=GF(8)\n",
    "show(k.modulus())\n",
    "show(k.gen())"
   ]
  },
  {
   "cell_type": "code",
   "execution_count": 5,
   "metadata": {},
   "outputs": [],
   "source": [
    "kx.<x>=PolynomialRing(k)"
   ]
  },
  {
   "cell_type": "code",
   "execution_count": 6,
   "metadata": {},
   "outputs": [
    {
     "data": {
      "text/plain": [
       "(z3^2 + 1)*x^5 + z3^2*x^4 + (z3^2 + 1)*x^3 + (z3^2 + 1)*x^2 + x + z3"
      ]
     },
     "execution_count": 6,
     "metadata": {},
     "output_type": "execute_result"
    }
   ],
   "source": [
    "kx.random_element((0,5))"
   ]
  },
  {
   "cell_type": "code",
   "execution_count": 7,
   "metadata": {},
   "outputs": [
    {
     "data": {
      "text/plain": [
       "4"
      ]
     },
     "execution_count": 7,
     "metadata": {},
     "output_type": "execute_result"
    }
   ],
   "source": [
    "pow(3,10,5)"
   ]
  },
  {
   "cell_type": "code",
   "execution_count": 8,
   "metadata": {},
   "outputs": [],
   "source": [
    "AnneauQuotient.<z>=kx.quotient(k.modulus())"
   ]
  },
  {
   "cell_type": "markdown",
   "metadata": {},
   "source": [
    "Exo 2"
   ]
  },
  {
   "cell_type": "code",
   "execution_count": 171,
   "metadata": {},
   "outputs": [],
   "source": [
    "def cantorZassenhauss(Q,n,d,q):\n",
    "    #q=Q.parent().modulus()\n",
    "    \n",
    "    A=(Q.parent()).random_element((0,n-1))\n",
    "    \n",
    "    D=A.gcd(Q)\n",
    "    if D!=1:\n",
    "        return D\n",
    "    \n",
    "    B=pow(A,(q^d-1)/2,Q)\n",
    "    D=(B-1).gcd(Q)\n",
    "    if D!=1 and D!=Q:\n",
    "        return D\n",
    "    return \"echec\""
   ]
  },
  {
   "cell_type": "code",
   "execution_count": 172,
   "metadata": {},
   "outputs": [
    {
     "data": {
      "text/plain": [
       "x^4 + 10*x^2 + 9"
      ]
     },
     "execution_count": 172,
     "metadata": {},
     "output_type": "execute_result"
    }
   ],
   "source": [
    "k=GF(11)\n",
    "kx.<x>=PolynomialRing(k)\n",
    "Q=x^8+8*x^6+9*x^4+6*x^2+4\n",
    "cantorZassenhauss(Q,8,2,11)"
   ]
  },
  {
   "cell_type": "code",
   "execution_count": 173,
   "metadata": {},
   "outputs": [
    {
     "data": {
      "text/plain": [
       "'echec'"
      ]
     },
     "execution_count": 173,
     "metadata": {},
     "output_type": "execute_result"
    }
   ],
   "source": [
    "q=3\n",
    "d=4\n",
    "n=16\n",
    "\n",
    "k=GF(q)\n",
    "kx.<x>=PolynomialRing(k)\n",
    "Q=cyclotomic_polynomial(n)\n",
    "R=kx(Q)\n",
    "\n",
    "cantorZassenhauss(R,Q.degree(),d,q)"
   ]
  },
  {
   "cell_type": "code",
   "execution_count": 174,
   "metadata": {},
   "outputs": [
    {
     "data": {
      "text/plain": [
       "x^2 + 2*z2 + 1"
      ]
     },
     "execution_count": 174,
     "metadata": {},
     "output_type": "execute_result"
    }
   ],
   "source": [
    "q=9\n",
    "d=2\n",
    "n=16\n",
    "\n",
    "k=GF(q)\n",
    "kx.<x>=PolynomialRing(k)\n",
    "Q=cyclotomic_polynomial(n)\n",
    "R=kx(Q)\n",
    "\n",
    "cantorZassenhauss(R,Q.degree(),d,q)"
   ]
  },
  {
   "cell_type": "code",
   "execution_count": 176,
   "metadata": {},
   "outputs": [
    {
     "data": {
      "text/plain": [
       "x^10 + (2*z2 + 1)*x^5 + 1"
      ]
     },
     "execution_count": 176,
     "metadata": {},
     "output_type": "execute_result"
    }
   ],
   "source": [
    "q=9\n",
    "A=Integers(n)\n",
    "Aq=A(q)\n",
    "d = Aq.multiplicative_order()\n",
    "n=25\n",
    "\n",
    "k=GF(q)\n",
    "kx.<x>=PolynomialRing(k)\n",
    "Q=cyclotomic_polynomial(n)\n",
    "R=kx(Q)\n",
    "\n",
    "cantorZassenhauss(R,Q.degree(),d,q)"
   ]
  },
  {
   "cell_type": "markdown",
   "metadata": {},
   "source": [
    "Exo 3"
   ]
  },
  {
   "cell_type": "code",
   "execution_count": 177,
   "metadata": {},
   "outputs": [],
   "source": [
    "def degresEgaux(Q,d,q):\n",
    "    if Q.degree()==d:\n",
    "        \n",
    "        return [Q]\n",
    "    \n",
    "    D = cantorZassenhauss(Q,Q.degree(),d,q)\n",
    "    while D == \"echec\":\n",
    "        D = cantorZassenhauss(Q,Q.degree(),d,q)\n",
    "    \n",
    "    return degresEgaux(D,d,q)+degresEgaux(Q//D,d,q)\n",
    "\n",
    "    "
   ]
  },
  {
   "cell_type": "code",
   "execution_count": 178,
   "metadata": {},
   "outputs": [
    {
     "data": {
      "text/html": [
       "<html>\\[\\newcommand{\\Bold}[1]{\\mathbf{#1}}\\left[x^{2} + 2 z_{2} + 1, x^{2} + z_{2} + 2, x^{2} + 2 z_{2}, x^{2} + z_{2}\\right]\\]</html>"
      ],
      "text/latex": [
       "$$\\newcommand{\\Bold}[1]{\\mathbf{#1}}\\left[x^{2} + 2 z_{2} + 1, x^{2} + z_{2} + 2, x^{2} + 2 z_{2}, x^{2} + z_{2}\\right]$$"
      ],
      "text/plain": [
       "[x^2 + 2*z2 + 1, x^2 + z2 + 2, x^2 + 2*z2, x^2 + z2]"
      ]
     },
     "metadata": {},
     "output_type": "display_data"
    }
   ],
   "source": [
    "k=GF(q)\n",
    "kx.<x>=PolynomialRing(k)\n",
    "Q=cyclotomic_polynomial(16)\n",
    "R=kx(Q)\n",
    "show(degresEgaux(R,2,q))"
   ]
  },
  {
   "cell_type": "markdown",
   "metadata": {},
   "source": [
    "Exo 4\n",
    "\n"
   ]
  },
  {
   "cell_type": "code",
   "execution_count": 179,
   "metadata": {},
   "outputs": [],
   "source": [
    "def racines(f,q):\n",
    "    kx.<x>=PolynomialRing(GF(q))\n",
    "    D = f.gcd(x^q-x)\n",
    "    rep = \"Aucune racine\"\n",
    "    try :\n",
    "        rep = degresEgaux(D,1,q)\n",
    "    except:\n",
    "        pass\n",
    "    return rep "
   ]
  },
  {
   "cell_type": "code",
   "execution_count": 180,
   "metadata": {
    "scrolled": true
   },
   "outputs": [
    {
     "data": {
      "text/plain": [
       "[x + 7*z2 + 8,\n",
       " x + 4*z2 + 3,\n",
       " x + 8*z2 + 6,\n",
       " x + 5*z2 + 1,\n",
       " x + 3*z2 + 5,\n",
       " x + 10*z2 + 2,\n",
       " x + 6*z2 + 10,\n",
       " x + z2 + 9]"
      ]
     },
     "execution_count": 180,
     "metadata": {},
     "output_type": "execute_result"
    }
   ],
   "source": [
    "k=GF(11^2)\n",
    "kx.<x>=PolynomialRing(k)\n",
    "f=x^8+8*x^6+9*x^4+6*x^2+4\n",
    "racines(f,11^2)"
   ]
  },
  {
   "cell_type": "code",
   "execution_count": 181,
   "metadata": {},
   "outputs": [
    {
     "data": {
      "text/plain": [
       "[(10*z2 + 2, 1),\n",
       " (8*z2 + 6, 1),\n",
       " (7*z2 + 8, 1),\n",
       " (6*z2 + 10, 1),\n",
       " (5*z2 + 1, 1),\n",
       " (4*z2 + 3, 1),\n",
       " (3*z2 + 5, 1),\n",
       " (z2 + 9, 1)]"
      ]
     },
     "execution_count": 181,
     "metadata": {},
     "output_type": "execute_result"
    }
   ],
   "source": [
    "f.roots()"
   ]
  },
  {
   "cell_type": "markdown",
   "metadata": {},
   "source": [
    "Exo 5"
   ]
  },
  {
   "cell_type": "code",
   "execution_count": 229,
   "metadata": {},
   "outputs": [],
   "source": [
    "k=GF(5)\n",
    "kx.<x>=PolynomialRing(k)\n",
    "P=x^11+3*x^10+2*x^9+3*x^8+x^7+x^5+3*x^4+2*x^2+4*x\n"
   ]
  },
  {
   "cell_type": "code",
   "execution_count": 230,
   "metadata": {},
   "outputs": [
    {
     "name": "stdout",
     "output_type": "stream",
     "text": [
      "x^2 + 4*x\n",
      "[x, x + 4]\n"
     ]
    }
   ],
   "source": [
    "D1=P.gcd(x^5-x)\n",
    "print(D1)\n",
    "L=degresEgaux(D1,1,5)\n",
    "print(L)"
   ]
  },
  {
   "cell_type": "code",
   "execution_count": 242,
   "metadata": {},
   "outputs": [
    {
     "data": {
      "text/html": [
       "<html>\\[\\newcommand{\\Bold}[1]{\\mathbf{#1}}x^{3} + 3 x^{2} + x\\]</html>"
      ],
      "text/latex": [
       "$$\\newcommand{\\Bold}[1]{\\mathbf{#1}}x^{3} + 3 x^{2} + x$$"
      ],
      "text/plain": [
       "x^3 + 3*x^2 + x"
      ]
     },
     "metadata": {},
     "output_type": "display_data"
    }
   ],
   "source": [
    "alphaL=[]\n",
    "Pcopy=copy(P)\n",
    "for X in L:\n",
    "    alpha=1\n",
    "    Pcopy=Pcopy//X\n",
    "    while(Pcopy%X==0):\n",
    "        Pcopy=Pcopy//X\n",
    "        alpha=alpha+1\n",
    "    alphaL.append(alpha)\n",
    "    \n",
    "    \n",
    "alphaL\n",
    "                \n",
    "show((L[0]^alphaL[0])*(L[1]^alphaL[1]))"
   ]
  },
  {
   "cell_type": "code",
   "execution_count": 243,
   "metadata": {},
   "outputs": [
    {
     "data": {
      "text/html": [
       "<html>\\[\\newcommand{\\Bold}[1]{\\mathbf{#1}}x^{8} + x^{6} + x^{2} + 4\\]</html>"
      ],
      "text/latex": [
       "$$\\newcommand{\\Bold}[1]{\\mathbf{#1}}x^{8} + x^{6} + x^{2} + 4$$"
      ],
      "text/plain": [
       "x^8 + x^6 + x^2 + 4"
      ]
     },
     "metadata": {},
     "output_type": "display_data"
    }
   ],
   "source": [
    "P2=P//((L[0]^alphaL[0])*(L[1]^alphaL[1]))\n",
    "show(P2)"
   ]
  },
  {
   "cell_type": "code",
   "execution_count": 246,
   "metadata": {},
   "outputs": [
    {
     "name": "stdout",
     "output_type": "stream",
     "text": [
      "1\n",
      "[1]\n"
     ]
    }
   ],
   "source": [
    "D2=(P2).gcd(x^5-x)\n",
    "print(D2)\n",
    "L=degresEgaux(D2,0,5)\n",
    "print(L)"
   ]
  },
  {
   "cell_type": "code",
   "execution_count": null,
   "metadata": {},
   "outputs": [],
   "source": []
  },
  {
   "cell_type": "markdown",
   "metadata": {},
   "source": []
  },
  {
   "cell_type": "code",
   "execution_count": null,
   "metadata": {},
   "outputs": [],
   "source": []
  },
  {
   "cell_type": "code",
   "execution_count": null,
   "metadata": {},
   "outputs": [],
   "source": []
  },
  {
   "cell_type": "code",
   "execution_count": null,
   "metadata": {},
   "outputs": [],
   "source": []
  }
 ],
 "metadata": {
  "kernelspec": {
   "display_name": "SageMath 9.4",
   "language": "sage",
   "name": "sagemath"
  },
  "language_info": {
   "codemirror_mode": {
    "name": "ipython",
    "version": 3
   },
   "file_extension": ".py",
   "mimetype": "text/x-python",
   "name": "python",
   "nbconvert_exporter": "python",
   "pygments_lexer": "ipython3",
   "version": "3.9.5"
  }
 },
 "nbformat": 4,
 "nbformat_minor": 4
}
