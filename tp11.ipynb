{
 "cells": [
  {
   "cell_type": "code",
   "execution_count": 1,
   "metadata": {},
   "outputs": [],
   "source": [
    "p=5\n",
    "k=GF(p)"
   ]
  },
  {
   "cell_type": "code",
   "execution_count": 2,
   "metadata": {},
   "outputs": [],
   "source": [
    "M=matrix(k,[\n",
    "    [0,1,1,1,1],\n",
    "    [0,0,2,3,4],\n",
    "    [0,0,0,3,6],\n",
    "    [0,0,0,0,4],\n",
    "    [0,0,0,0,0]\n",
    "])\n",
    "\n"
   ]
  },
  {
   "cell_type": "code",
   "execution_count": 3,
   "metadata": {},
   "outputs": [
    {
     "data": {
      "text/plain": [
       "Vector space of degree 5 and dimension 1 over Finite Field of size 5\n",
       "Basis matrix:\n",
       "[1 0 0 0 0]"
      ]
     },
     "execution_count": 3,
     "metadata": {},
     "output_type": "execute_result"
    }
   ],
   "source": [
    "M.right_kernel()"
   ]
  },
  {
   "cell_type": "code",
   "execution_count": 4,
   "metadata": {},
   "outputs": [],
   "source": [
    "def genmatricePascal(p):\n",
    "    K=GF(p)\n",
    "    M = []\n",
    "    for n in range(p):\n",
    "        l  = [binomial(n, k) for k in range(n+1)]\n",
    "        for k in range(p-n-1):\n",
    "            l.append(0)\n",
    "        M.append(l)\n",
    "   \n",
    "    return (matrix(K,M)).transpose()"
   ]
  },
  {
   "cell_type": "code",
   "execution_count": 5,
   "metadata": {},
   "outputs": [
    {
     "data": {
      "text/html": [
       "<html>\\[\\newcommand{\\Bold}[1]{\\mathbf{#1}}\\left(\\begin{array}{rrrrr}\n",
       "0 & 1 & 1 & 1 & 1 \\\\\n",
       "0 & 0 & 2 & 3 & 4 \\\\\n",
       "0 & 0 & 0 & 3 & 1 \\\\\n",
       "0 & 0 & 0 & 0 & 4 \\\\\n",
       "0 & 0 & 0 & 0 & 0\n",
       "\\end{array}\\right)\\]</html>"
      ],
      "text/latex": [
       "$$\\newcommand{\\Bold}[1]{\\mathbf{#1}}\\left(\\begin{array}{rrrrr}\n",
       "0 & 1 & 1 & 1 & 1 \\\\\n",
       "0 & 0 & 2 & 3 & 4 \\\\\n",
       "0 & 0 & 0 & 3 & 1 \\\\\n",
       "0 & 0 & 0 & 0 & 4 \\\\\n",
       "0 & 0 & 0 & 0 & 0\n",
       "\\end{array}\\right)$$"
      ],
      "text/plain": [
       "[0 1 1 1 1]\n",
       "[0 0 2 3 4]\n",
       "[0 0 0 3 1]\n",
       "[0 0 0 0 4]\n",
       "[0 0 0 0 0]"
      ]
     },
     "metadata": {},
     "output_type": "display_data"
    }
   ],
   "source": [
    "p = 5\n",
    "\n",
    "m = genmatricePascal(p) - matrix.identity(p)\n",
    "show(m)"
   ]
  },
  {
   "cell_type": "code",
   "execution_count": 6,
   "metadata": {},
   "outputs": [
    {
     "data": {
      "text/plain": [
       "Vector space of degree 5 and dimension 1 over Finite Field of size 5\n",
       "Basis matrix:\n",
       "[1 0 0 0 0]"
      ]
     },
     "execution_count": 6,
     "metadata": {},
     "output_type": "execute_result"
    }
   ],
   "source": [
    "m.right_kernel()\n"
   ]
  },
  {
   "cell_type": "markdown",
   "metadata": {},
   "source": [
    "# Algorithme de Berlekamp"
   ]
  },
  {
   "cell_type": "markdown",
   "metadata": {},
   "source": [
    "1)"
   ]
  },
  {
   "cell_type": "code",
   "execution_count": 7,
   "metadata": {},
   "outputs": [],
   "source": [
    "k=GF(5)\n",
    "kx.<x>=PolynomialRing(k)\n",
    "f=x^6+2*x^5+x^4+2*x^3+x-1\n",
    "f2=diff(f,x)"
   ]
  },
  {
   "cell_type": "code",
   "execution_count": 8,
   "metadata": {},
   "outputs": [
    {
     "data": {
      "text/plain": [
       "1"
      ]
     },
     "execution_count": 8,
     "metadata": {},
     "output_type": "execute_result"
    }
   ],
   "source": [
    "f.gcd(f2)"
   ]
  },
  {
   "cell_type": "markdown",
   "metadata": {},
   "source": [
    "2)"
   ]
  },
  {
   "cell_type": "code",
   "execution_count": 10,
   "metadata": {},
   "outputs": [
    {
     "data": {
      "text/plain": [
       "1"
      ]
     },
     "execution_count": 10,
     "metadata": {},
     "output_type": "execute_result"
    }
   ],
   "source": [
    "f.gcd(x^5-x)"
   ]
  },
  {
   "cell_type": "markdown",
   "metadata": {},
   "source": [
    "Anneau A = F5[X]/(f) ?\n"
   ]
  },
  {
   "cell_type": "markdown",
   "metadata": {},
   "source": [
    "- F(5²) * F(5²) * F(5²) \n",
    "- F(5²) * F(5⁴) \n",
    "- F(5³) * F(5³)"
   ]
  },
  {
   "cell_type": "markdown",
   "metadata": {},
   "source": [
    "4) Soit F l’aplication de A dans lui-même qui à x associe x^5\n",
    "\n",
    "Écrire la matrice de F − Id dans la base 1, x, . . . , x^5 de A, et calculer son noyau N."
   ]
  },
  {
   "cell_type": "code",
   "execution_count": 11,
   "metadata": {},
   "outputs": [],
   "source": [
    "def matriceendomorphisme(p,f):\n",
    "    K=GF(p)\n",
    "    M = []\n",
    "    for n in range(p+1):\n",
    "        l  = pow(x,n*p,f).list()\n",
    "        for k in range(p-len(l)+1):\n",
    "            l.append(0)\n",
    "        M.append(l)\n",
    "    return (matrix(K,M)).transpose()\n",
    "\n"
   ]
  },
  {
   "cell_type": "code",
   "execution_count": 34,
   "metadata": {},
   "outputs": [
    {
     "data": {
      "text/html": [
       "<html>\\[\\newcommand{\\Bold}[1]{\\mathbf{#1}}\\left(\\begin{array}{rrrrrr}\n",
       "1 & 0 & 3 & 2 & 1 & 0 \\\\\n",
       "0 & 0 & 1 & 2 & 0 & 1 \\\\\n",
       "0 & 0 & 4 & 0 & 0 & 0 \\\\\n",
       "0 & 0 & 4 & 3 & 1 & 0 \\\\\n",
       "0 & 0 & 2 & 2 & 2 & 0 \\\\\n",
       "0 & 1 & 3 & 4 & 3 & 0\n",
       "\\end{array}\\right)\\]</html>"
      ],
      "text/latex": [
       "$$\\newcommand{\\Bold}[1]{\\mathbf{#1}}\\left(\\begin{array}{rrrrrr}\n",
       "1 & 0 & 3 & 2 & 1 & 0 \\\\\n",
       "0 & 0 & 1 & 2 & 0 & 1 \\\\\n",
       "0 & 0 & 4 & 0 & 0 & 0 \\\\\n",
       "0 & 0 & 4 & 3 & 1 & 0 \\\\\n",
       "0 & 0 & 2 & 2 & 2 & 0 \\\\\n",
       "0 & 1 & 3 & 4 & 3 & 0\n",
       "\\end{array}\\right)$$"
      ],
      "text/plain": [
       "[1 0 3 2 1 0]\n",
       "[0 0 1 2 0 1]\n",
       "[0 0 4 0 0 0]\n",
       "[0 0 4 3 1 0]\n",
       "[0 0 2 2 2 0]\n",
       "[0 1 3 4 3 0]"
      ]
     },
     "metadata": {},
     "output_type": "display_data"
    },
    {
     "data": {
      "text/html": [
       "<html>\\[\\newcommand{\\Bold}[1]{\\mathbf{#1}}\\left(\\begin{array}{rrrrrr}\n",
       "0 & 0 & 3 & 2 & 1 & 0 \\\\\n",
       "0 & 4 & 1 & 2 & 0 & 1 \\\\\n",
       "0 & 0 & 3 & 0 & 0 & 0 \\\\\n",
       "0 & 0 & 4 & 2 & 1 & 0 \\\\\n",
       "0 & 0 & 2 & 2 & 1 & 0 \\\\\n",
       "0 & 1 & 3 & 4 & 3 & 4\n",
       "\\end{array}\\right)\\]</html>"
      ],
      "text/latex": [
       "$$\\newcommand{\\Bold}[1]{\\mathbf{#1}}\\left(\\begin{array}{rrrrrr}\n",
       "0 & 0 & 3 & 2 & 1 & 0 \\\\\n",
       "0 & 4 & 1 & 2 & 0 & 1 \\\\\n",
       "0 & 0 & 3 & 0 & 0 & 0 \\\\\n",
       "0 & 0 & 4 & 2 & 1 & 0 \\\\\n",
       "0 & 0 & 2 & 2 & 1 & 0 \\\\\n",
       "0 & 1 & 3 & 4 & 3 & 4\n",
       "\\end{array}\\right)$$"
      ],
      "text/plain": [
       "[0 0 3 2 1 0]\n",
       "[0 4 1 2 0 1]\n",
       "[0 0 3 0 0 0]\n",
       "[0 0 4 2 1 0]\n",
       "[0 0 2 2 1 0]\n",
       "[0 1 3 4 3 4]"
      ]
     },
     "metadata": {},
     "output_type": "display_data"
    },
    {
     "data": {
      "text/html": [
       "<html>\\[\\newcommand{\\Bold}[1]{\\mathbf{#1}}\\mathrm{RowSpan}_{\\Bold{F}_{5}}\\left(\\begin{array}{rrrrrr}\n",
       "1 & 0 & 0 & 0 & 0 & 0 \\\\\n",
       "0 & 1 & 0 & 0 & 0 & 1 \\\\\n",
       "0 & 0 & 0 & 1 & 3 & 3\n",
       "\\end{array}\\right)\\]</html>"
      ],
      "text/latex": [
       "$$\\newcommand{\\Bold}[1]{\\mathbf{#1}}\\mathrm{RowSpan}_{\\Bold{F}_{5}}\\left(\\begin{array}{rrrrrr}\n",
       "1 & 0 & 0 & 0 & 0 & 0 \\\\\n",
       "0 & 1 & 0 & 0 & 0 & 1 \\\\\n",
       "0 & 0 & 0 & 1 & 3 & 3\n",
       "\\end{array}\\right)$$"
      ],
      "text/plain": [
       "Vector space of degree 6 and dimension 3 over Finite Field of size 5\n",
       "Basis matrix:\n",
       "[1 0 0 0 0 0]\n",
       "[0 1 0 0 0 1]\n",
       "[0 0 0 1 3 3]"
      ]
     },
     "metadata": {},
     "output_type": "display_data"
    }
   ],
   "source": [
    "p = 5\n",
    "#F de A\n",
    "m = matriceendomorphisme(p,f)\n",
    "show(m)\n",
    "\n",
    "#F - Id\n",
    "m2 = m-matrix.identity(p+1)\n",
    "show(m2)\n",
    "\n",
    "#kernel de F\n",
    "N = m2.right_kernel()\n",
    "show(N)"
   ]
  },
  {
   "cell_type": "code",
   "execution_count": 35,
   "metadata": {},
   "outputs": [
    {
     "data": {
      "text/plain": [
       "(x^2 + 2) * (x^2 + x + 1) * (x^2 + x + 2)"
      ]
     },
     "execution_count": 35,
     "metadata": {},
     "output_type": "execute_result"
    }
   ],
   "source": [
    "f.factor()"
   ]
  },
  {
   "cell_type": "code",
   "execution_count": 36,
   "metadata": {},
   "outputs": [
    {
     "name": "stdout",
     "output_type": "stream",
     "text": [
      "dim : 3  = nombre facteurs irréductibles\n",
      "degree : 2\n"
     ]
    }
   ],
   "source": [
    "#number of irreductible factors\n",
    "dim = len((N).basis())\n",
    "print(\"dim :\",dim,\" = nombre facteurs irréductibles\")\n",
    "\n",
    "\n",
    "#degree\n",
    "deg = f.degree() / dim\n",
    "print(\"degree :\",deg)"
   ]
  },
  {
   "cell_type": "code",
   "execution_count": 43,
   "metadata": {},
   "outputs": [
    {
     "data": {
      "text/html": [
       "<html>\\[\\newcommand{\\Bold}[1]{\\mathbf{#1}}\\left(0,\\,2,\\,0,\\,1,\\,3,\\,0\\right)\\]</html>"
      ],
      "text/latex": [
       "$$\\newcommand{\\Bold}[1]{\\mathbf{#1}}\\left(0,\\,2,\\,0,\\,1,\\,3,\\,0\\right)$$"
      ],
      "text/plain": [
       "(0, 2, 0, 1, 3, 0)"
      ]
     },
     "metadata": {},
     "output_type": "display_data"
    }
   ],
   "source": [
    "K=GF(p)\n",
    "A = (N).random_element(p) #liste de coefficient\n",
    "show(A)\n",
    "\n",
    "liste = list(A)\n",
    "puissance = deepcopy(p) #ne pas oublier le deepcopy !!!\n",
    "g=0\n",
    "for coef in liste:\n",
    "    g += coef*x^puissance\n",
    "    puissance-=1\n",
    "\n",
    "def gen(p,A):\n",
    "    liste = list(A)\n",
    "    g=0\n",
    "    for coef in liste:\n",
    "        g += coef*x^p\n",
    "        p-=1\n",
    "    return g\n"
   ]
  },
  {
   "cell_type": "code",
   "execution_count": 49,
   "metadata": {},
   "outputs": [
    {
     "data": {
      "text/html": [
       "<html>\\[\\newcommand{\\Bold}[1]{\\mathbf{#1}}1\\]</html>"
      ],
      "text/latex": [
       "$$\\newcommand{\\Bold}[1]{\\mathbf{#1}}1$$"
      ],
      "text/plain": [
       "1"
      ]
     },
     "metadata": {},
     "output_type": "display_data"
    },
    {
     "data": {
      "text/html": [
       "<html>\\[\\newcommand{\\Bold}[1]{\\mathbf{#1}}1\\]</html>"
      ],
      "text/latex": [
       "$$\\newcommand{\\Bold}[1]{\\mathbf{#1}}1$$"
      ],
      "text/plain": [
       "1"
      ]
     },
     "metadata": {},
     "output_type": "display_data"
    }
   ],
   "source": [
    "A = (N).random_element(p)\n",
    "g = gen(p,A)\n",
    "show(f.gcd(g))\n",
    "show(f.gcd(g ^2 -1))"
   ]
  },
  {
   "cell_type": "code",
   "execution_count": 50,
   "metadata": {},
   "outputs": [
    {
     "name": "stdout",
     "output_type": "stream",
     "text": [
      "4*x^5 + 4*x^2 + 2*x + 2\n"
     ]
    }
   ],
   "source": [
    "print(g)"
   ]
  },
  {
   "cell_type": "code",
   "execution_count": 79,
   "metadata": {},
   "outputs": [],
   "source": [
    "l=[]\n",
    "for i in range(100):\n",
    "    A = (N).random_element(p)\n",
    "    g = gen(p,A)\n",
    "    t = f.gcd(g)\n",
    "    t2 = f.gcd(g ^2 -1)\n",
    "    if t==1 and (t2!=1 and t2!=f) :\n",
    "        l.append(t2)"
   ]
  },
  {
   "cell_type": "code",
   "execution_count": 80,
   "metadata": {
    "scrolled": true
   },
   "outputs": [
    {
     "data": {
      "text/plain": [
       "[x^2 + 2,\n",
       " x^4 + x^3 + 4*x^2 + 2*x + 4,\n",
       " x^2 + 2,\n",
       " x^2 + 2,\n",
       " x^2 + 2,\n",
       " x^2 + 2,\n",
       " x^2 + 2,\n",
       " x^2 + 2,\n",
       " x^2 + 2]"
      ]
     },
     "execution_count": 80,
     "metadata": {},
     "output_type": "execute_result"
    }
   ],
   "source": [
    "l"
   ]
  },
  {
   "cell_type": "code",
   "execution_count": 76,
   "metadata": {},
   "outputs": [
    {
     "data": {
      "text/plain": [
       "71"
      ]
     },
     "execution_count": 76,
     "metadata": {},
     "output_type": "execute_result"
    }
   ],
   "source": [
    "len(l)"
   ]
  },
  {
   "cell_type": "code",
   "execution_count": 87,
   "metadata": {},
   "outputs": [],
   "source": [
    "def genInverse(A):\n",
    "    liste = list(A)\n",
    "    i=0\n",
    "    g=0\n",
    "    for coef in liste:\n",
    "        g += coef*x^i\n",
    "        i+=1\n",
    "    return g\n",
    "\n",
    "\n",
    "for i in range(5):\n",
    "    A = (N).random_element(p)\n",
    "    g = genInverse(A)\n",
    "    t = f.gcd(g)\n",
    "    t2 = f.gcd(g ^2 -1)\n",
    "    if t==1 and (t2!=1 and t2!=f) :\n",
    "        l.append(t2)"
   ]
  },
  {
   "cell_type": "code",
   "execution_count": 88,
   "metadata": {},
   "outputs": [
    {
     "data": {
      "text/plain": [
       "[x^2 + 2,\n",
       " x^4 + x^3 + 4*x^2 + 2*x + 4,\n",
       " x^2 + 2,\n",
       " x^2 + 2,\n",
       " x^2 + 2,\n",
       " x^2 + 2,\n",
       " x^2 + 2,\n",
       " x^2 + 2,\n",
       " x^2 + 2,\n",
       " x^4 + 2*x^3 + 4*x^2 + 3*x + 2,\n",
       " x^4 + x^3 + 4*x^2 + 2*x + 4,\n",
       " x^4 + 2*x^3 + 4*x^2 + 3*x + 2,\n",
       " x^4 + x^3 + 4*x^2 + 2*x + 4,\n",
       " x^2 + x + 2,\n",
       " x^2 + x + 1,\n",
       " x^2 + 2,\n",
       " x^2 + x + 2,\n",
       " x^2 + x + 1,\n",
       " x^4 + 2*x^3 + 4*x^2 + 3*x + 2,\n",
       " x^2 + x + 1,\n",
       " x^2 + x + 1,\n",
       " x^2 + x + 2,\n",
       " x^4 + x^3 + 3*x^2 + 2*x + 2,\n",
       " x^4 + x^3 + 4*x^2 + 2*x + 4,\n",
       " x^4 + x^3 + 3*x^2 + 2*x + 2,\n",
       " x^4 + x^3 + 4*x^2 + 2*x + 4,\n",
       " x^2 + x + 1,\n",
       " x^2 + x + 2,\n",
       " x^2 + x + 2,\n",
       " x^4 + 2*x^3 + 4*x^2 + 3*x + 2,\n",
       " x^2 + 2,\n",
       " x^2 + 2,\n",
       " x^2 + 2,\n",
       " x^4 + x^3 + 4*x^2 + 2*x + 4,\n",
       " x^2 + x + 1,\n",
       " x^2 + x + 2,\n",
       " x^4 + x^3 + 3*x^2 + 2*x + 2,\n",
       " x^4 + x^3 + 3*x^2 + 2*x + 2,\n",
       " x^2 + x + 2,\n",
       " x^2 + x + 1,\n",
       " x^2 + x + 1,\n",
       " x^2 + 2,\n",
       " x^2 + x + 2,\n",
       " x^4 + 2*x^3 + 4*x^2 + 3*x + 2,\n",
       " x^4 + x^3 + 3*x^2 + 2*x + 2,\n",
       " x^2 + x + 1,\n",
       " x^4 + x^3 + 3*x^2 + 2*x + 2,\n",
       " x^4 + 2*x^3 + 4*x^2 + 3*x + 2,\n",
       " x^2 + x + 1,\n",
       " x^2 + x + 1,\n",
       " x^2 + x + 2,\n",
       " x^4 + 2*x^3 + 4*x^2 + 3*x + 2,\n",
       " x^2 + 2,\n",
       " x^2 + 2,\n",
       " x^4 + 2*x^3 + 4*x^2 + 3*x + 2,\n",
       " x^2 + 2,\n",
       " x^2 + 2,\n",
       " x^4 + x^3 + 4*x^2 + 2*x + 4,\n",
       " x^4 + x^3 + 3*x^2 + 2*x + 2,\n",
       " x^4 + x^3 + 3*x^2 + 2*x + 2,\n",
       " x^4 + x^3 + 4*x^2 + 2*x + 4,\n",
       " x^4 + x^3 + 4*x^2 + 2*x + 4,\n",
       " x^4 + 2*x^3 + 4*x^2 + 3*x + 2,\n",
       " x^2 + x + 2,\n",
       " x^4 + x^3 + 3*x^2 + 2*x + 2,\n",
       " x^2 + x + 2,\n",
       " x^2 + x + 1,\n",
       " x^4 + x^3 + 4*x^2 + 2*x + 4,\n",
       " x^4 + x^3 + 3*x^2 + 2*x + 2,\n",
       " x^2 + x + 2,\n",
       " x^2 + 2,\n",
       " x^4 + 2*x^3 + 4*x^2 + 3*x + 2,\n",
       " x^4 + 2*x^3 + 4*x^2 + 3*x + 2,\n",
       " x^2 + 2,\n",
       " x^4 + x^3 + 4*x^2 + 2*x + 4,\n",
       " x^4 + 2*x^3 + 4*x^2 + 3*x + 2,\n",
       " x^2 + x + 1,\n",
       " x^4 + x^3 + 3*x^2 + 2*x + 2,\n",
       " x^4 + 2*x^3 + 4*x^2 + 3*x + 2,\n",
       " x^4 + x^3 + 4*x^2 + 2*x + 4,\n",
       " x^2 + 2,\n",
       " x^2 + x + 1,\n",
       " x^2 + x + 1,\n",
       " x^2 + x + 2,\n",
       " x^4 + 2*x^3 + 4*x^2 + 3*x + 2,\n",
       " x^2 + x + 1,\n",
       " x^4 + x^3 + 4*x^2 + 2*x + 4,\n",
       " x^2 + x + 2,\n",
       " x^2 + 2,\n",
       " x^4 + x^3 + 3*x^2 + 2*x + 2,\n",
       " x^4 + x^3 + 3*x^2 + 2*x + 2,\n",
       " x^2 + x + 1,\n",
       " x^2 + 2,\n",
       " x^2 + x + 1,\n",
       " x^4 + 2*x^3 + 4*x^2 + 3*x + 2,\n",
       " x^4 + 2*x^3 + 4*x^2 + 3*x + 2,\n",
       " x^4 + x^3 + 4*x^2 + 2*x + 4,\n",
       " x^2 + x + 1,\n",
       " x^4 + x^3 + 4*x^2 + 2*x + 4,\n",
       " x^4 + x^3 + 3*x^2 + 2*x + 2,\n",
       " x^2 + 2,\n",
       " x^2 + x + 1,\n",
       " x^2 + x + 1,\n",
       " x^2 + 2,\n",
       " x^4 + 2*x^3 + 4*x^2 + 3*x + 2,\n",
       " x^2 + x + 2,\n",
       " x^4 + x^3 + 4*x^2 + 2*x + 4,\n",
       " x^4 + 2*x^3 + 4*x^2 + 3*x + 2,\n",
       " x^2 + x + 1,\n",
       " x^4 + x^3 + 4*x^2 + 2*x + 4,\n",
       " x^2 + x + 1,\n",
       " x^2 + 2,\n",
       " x^2 + x + 2,\n",
       " x^2 + x + 2,\n",
       " x^4 + 2*x^3 + 4*x^2 + 3*x + 2,\n",
       " x^2 + 2,\n",
       " x^2 + x + 2,\n",
       " x^4 + x^3 + 3*x^2 + 2*x + 2,\n",
       " x^4 + 2*x^3 + 4*x^2 + 3*x + 2,\n",
       " x^2 + 2,\n",
       " x^4 + x^3 + 4*x^2 + 2*x + 4,\n",
       " x^4 + x^3 + 3*x^2 + 2*x + 2,\n",
       " x^2 + x + 2,\n",
       " x^4 + x^3 + 3*x^2 + 2*x + 2,\n",
       " x^2 + x + 2,\n",
       " x^2 + x + 2,\n",
       " x^2 + 2,\n",
       " x^4 + x^3 + 4*x^2 + 2*x + 4]"
      ]
     },
     "execution_count": 88,
     "metadata": {},
     "output_type": "execute_result"
    }
   ],
   "source": [
    "l"
   ]
  },
  {
   "cell_type": "code",
   "execution_count": null,
   "metadata": {},
   "outputs": [],
   "source": []
  }
 ],
 "metadata": {
  "kernelspec": {
   "display_name": "SageMath 9.4",
   "language": "sage",
   "name": "sagemath"
  },
  "language_info": {
   "codemirror_mode": {
    "name": "ipython",
    "version": 3
   },
   "file_extension": ".py",
   "mimetype": "text/x-python",
   "name": "python",
   "nbconvert_exporter": "python",
   "pygments_lexer": "ipython3",
   "version": "3.9.5"
  }
 },
 "nbformat": 4,
 "nbformat_minor": 4
}
